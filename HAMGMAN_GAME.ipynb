{
 "cells": [
  {
   "cell_type": "markdown",
   "id": "1ea3ab6a",
   "metadata": {},
   "source": [
    "# HAMGMAN GAME"
   ]
  },
  {
   "cell_type": "code",
   "execution_count": 1,
   "id": "72d60aad",
   "metadata": {},
   "outputs": [
    {
     "name": "stdout",
     "output_type": "stream",
     "text": [
      "                    YOU HAVE TO GUESS ANY FRUIT AMONG THESE\n",
      "                    \n",
      "banana, apple, orange, pineapple, mango, strawberry, guava, grapes, watermelon, papaya, chikoo, kiwi, litchi\n",
      "\n",
      " YOU HAVE TO GUESS FRUIT IN 13 CHANCES\n",
      "_ _ _ _ _ _ _ _ _ _\n",
      "\n",
      " Enter Your Guess Letter --> o\n",
      "_ _ _ _ _ _ _ _ o _\n",
      "\n",
      " Enter Your Guess Letter --> w\n",
      "w _ _ _ _ _ _ _ o _\n",
      "\n",
      " Enter Your Guess Letter --> a\n",
      "w a _ _ _ _ _ _ o _\n",
      "\n",
      " Enter Your Guess Letter --> t\n",
      "w a t _ _ _ _ _ o _\n",
      "\n",
      " Enter Your Guess Letter --> e\n",
      "w a t e _ _ e _ o _\n",
      "\n",
      " Enter Your Guess Letter --> r\n",
      "w a t e r _ e _ o _\n",
      "\n",
      " Enter Your Guess Letter --> m\n",
      "w a t e r m e _ o _\n",
      "\n",
      " Enter Your Guess Letter --> a\n",
      "w a t e r m e _ o _\n",
      "\n",
      " Enter Your Guess Letter --> l\n",
      "w a t e r m e l o _\n",
      "\n",
      " Enter Your Guess Letter --> n\n",
      "\n",
      " You Guessed The Fruit in 9 chances.\n"
     ]
    }
   ],
   "source": [
    "from random import choice\n",
    "fruits = ['banana', 'apple', 'orange', 'pineapple', 'mango', 'strawberry', 'guava',\n",
    "         'grapes', 'watermelon', 'papaya', 'chikoo', 'kiwi', 'litchi']\n",
    "print(\"YOU HAVE TO GUESS ANY FRUIT AMONG THESE\\n\".center(80))\n",
    "print(*fruits, sep=\", \")\n",
    "comp = choice(fruits)\n",
    "chances = len(comp) + 3\n",
    "print(f\"\\n YOU HAVE TO GUESS FRUIT IN {chances} CHANCES\")\n",
    "# print(chances)\n",
    "i = 0\n",
    "s = [\"_\"]*len(comp)\n",
    "while i<chances:\n",
    "    print(*s)\n",
    "    letter = input(\"\\n Enter Your Guess Letter --> \").lower()\n",
    "    if letter in comp:\n",
    "        index = 0\n",
    "        while index<len(comp):\n",
    "            if letter == comp[index]:\n",
    "                s[index] = letter\n",
    "            index += 1\n",
    "    if list(comp) == s:\n",
    "        print(f\"\\n You Guessed The Fruit in {i} chances.\")\n",
    "        break\n",
    "    i += 1\n",
    "else:\n",
    "    print(\"\\n You have not guessed the fruit right...You loss the game\")"
   ]
  },
  {
   "cell_type": "code",
   "execution_count": null,
   "id": "8b5c2d2b",
   "metadata": {},
   "outputs": [],
   "source": []
  }
 ],
 "metadata": {
  "kernelspec": {
   "display_name": "Python 3 (ipykernel)",
   "language": "python",
   "name": "python3"
  },
  "language_info": {
   "codemirror_mode": {
    "name": "ipython",
    "version": 3
   },
   "file_extension": ".py",
   "mimetype": "text/x-python",
   "name": "python",
   "nbconvert_exporter": "python",
   "pygments_lexer": "ipython3",
   "version": "3.9.7"
  }
 },
 "nbformat": 4,
 "nbformat_minor": 5
}
